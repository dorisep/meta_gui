{
 "cells": [
  {
   "cell_type": "code",
   "execution_count": 1,
   "id": "8c9a5b2b",
   "metadata": {},
   "outputs": [],
   "source": [
    "def gen_hash(s):\n",
    "    if len(s)==0:\n",
    "        return False\n",
    "    no_space_s = s.strip().title().replace(\" \", \"\")\n",
    "    if no_space_s[0] != '#':\n",
    "        hashtag = \"#\" + s\n",
    "        return hashtag\n",
    "    else: \n",
    "        return no_space_s\n"
   ]
  },
  {
   "cell_type": "code",
   "execution_count": 2,
   "id": "0b3dd331",
   "metadata": {},
   "outputs": [
    {
     "data": {
      "text/plain": [
       "'#Codewars'"
      ]
     },
     "execution_count": 2,
     "metadata": {},
     "output_type": "execute_result"
    }
   ],
   "source": [
    "gen_hash('#Codewars      ')"
   ]
  },
  {
   "cell_type": "code",
   "execution_count": 3,
   "id": "9d2f523e",
   "metadata": {},
   "outputs": [
    {
     "ename": "NameError",
     "evalue": "name 'b' is not defined",
     "output_type": "error",
     "traceback": [
      "\u001b[0;31m---------------------------------------------------------------------------\u001b[0m",
      "\u001b[0;31mNameError\u001b[0m                                 Traceback (most recent call last)",
      "\u001b[0;32m<ipython-input-3-c57cc84bc055>\u001b[0m in \u001b[0;36m<module>\u001b[0;34m\u001b[0m\n\u001b[0;32m----> 1\u001b[0;31m \u001b[0mhashtag\u001b[0m \u001b[0;34m=\u001b[0m \u001b[0;34m\"#\"\u001b[0m \u001b[0;34m+\u001b[0m \u001b[0mb\u001b[0m\u001b[0;34m\u001b[0m\u001b[0;34m\u001b[0m\u001b[0m\n\u001b[0m\u001b[1;32m      2\u001b[0m \u001b[0mhashtag\u001b[0m\u001b[0;34m\u001b[0m\u001b[0;34m\u001b[0m\u001b[0m\n",
      "\u001b[0;31mNameError\u001b[0m: name 'b' is not defined"
     ]
    }
   ],
   "source": [
    "hashtag = \"#\" + b\n",
    "hashtag"
   ]
  },
  {
   "cell_type": "code",
   "execution_count": null,
   "id": "0341ad15",
   "metadata": {},
   "outputs": [],
   "source": [
    "a.replace(\" \", \"\")\n",
    "a"
   ]
  },
  {
   "cell_type": "code",
   "execution_count": 13,
   "id": "036ea46a",
   "metadata": {},
   "outputs": [
    {
     "name": "stdout",
     "output_type": "stream",
     "text": [
      "True\n",
      "False\n"
     ]
    }
   ],
   "source": [
    "walk = ['s', 'e', 'e', 'w', 'n', 's', 'n', 's', 'e', 'w']\n",
    "\n",
    "\n",
    "direction_dict= {\n",
    "    'n': 0,\n",
    "    's': 0,\n",
    "    'w': 0,\n",
    "    'e': 0\n",
    "}\n",
    "if len(walk) != 10:\n",
    "    print(False)\n",
    "    pass\n",
    "for direction in walk:\n",
    "    direction_dict[direction] += 1\n",
    "print(direction_dict['n']!=direction_dict['s'])\n",
    "if direction_dict['n'] != direction_dict['s'] or direction_dict['w'] != direction_dict['e']:\n",
    "#     return False\n",
    "    print(False)\n",
    "else:\n",
    "    print(True)\n",
    "\n"
   ]
  },
  {
   "cell_type": "code",
   "execution_count": 11,
   "id": "837e66a5",
   "metadata": {},
   "outputs": [
    {
     "data": {
      "text/plain": [
       "dict_items([('n', 2), ('s', 3), ('w', 2), ('e', 3)])"
      ]
     },
     "execution_count": 11,
     "metadata": {},
     "output_type": "execute_result"
    }
   ],
   "source": [
    "direction_dict.items()"
   ]
  },
  {
   "cell_type": "code",
   "execution_count": null,
   "id": "de338346",
   "metadata": {},
   "outputs": [],
   "source": []
  }
 ],
 "metadata": {
  "kernelspec": {
   "display_name": "Python 3",
   "language": "python",
   "name": "python3"
  },
  "language_info": {
   "codemirror_mode": {
    "name": "ipython",
    "version": 3
   },
   "file_extension": ".py",
   "mimetype": "text/x-python",
   "name": "python",
   "nbconvert_exporter": "python",
   "pygments_lexer": "ipython3",
   "version": "3.8.8"
  }
 },
 "nbformat": 4,
 "nbformat_minor": 5
}
